{
  "metadata": {
    "language_info": {
      "codemirror_mode": {
        "name": "ipython",
        "version": 3
      },
      "file_extension": ".py",
      "mimetype": "text/x-python",
      "name": "python",
      "nbconvert_exporter": "python",
      "pygments_lexer": "ipython3",
      "version": "3.9.5"
    },
    "kernelspec": {
      "name": "manim7",
      "display_name": "python",
      "language": "manim7"
    }
  },
  "nbformat_minor": 5,
  "nbformat": 4,
  "cells": [
    {
      "cell_type": "code",
      "execution_count": null,
      "id": "needed-keeping",
      "metadata": {},
      "outputs": [],
      "source": [
         "from manim import *"
      ]
    },
    {
      "cell_type": "code",
      "execution_count": null,
      "id": "variable-concentration",
      "metadata": {},
      "outputs": [],
      "source": [
        "%manim --help"
      ]
    },
    {
      "cell_type": "code",
      "execution_count": null,
      "id": "exclusive-superior",
      "metadata": {},
      "outputs": [],
      "source": [
       "%%manim -qm -v WARNING SquareToCircle\n",
       "\n",
       "class SquareToCircle(Scene):\n",
       "    def construct(self):\n",
       "        circle = Circle()\n",
       "        square = Square()\n",
       "        square.flip(RIGHT)\n",
       "        square.rotate(-3 * TAU / 8)\n",
       "        circle.set_fill(PINK, opacity=0.5)\n",
       "\n",
       "        self.play(Create(square))\n",
       "        self.play(Transform(square, circle))\n",
       "        self.play(FadeOut(square))"
       ]
    },
    {
      "cell_type": "code",
      "execution_count": null,
      "id": "variable-concentration",
      "metadata": {},
      "outputs": [],
      "source": [
       "%%manim -qm -v WARNING Klik\n",
       "\n",
       "class Klik(Scene):\n",
       "    def construct(self):\n",
       "        dot1 = Dot(color = RED).shift(2 * LEFT)\n",
       "        dot2 = Dot(color = BLUE).shift(2 * RIGHT)\n",
       "\n",        
       "        self.add(dot1,dot2)\n",
       "        self.wait()\n",
       "        self.play(dot1.animate.move_to(dot2))\n",
       "        self.wait()\n",
       "        self.add_sound("tick.mp3")\n",
       "        self.wait()\n",
       ]
     },
  ]
}
